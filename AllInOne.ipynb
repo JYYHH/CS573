{
 "cells": [
  {
   "cell_type": "code",
   "execution_count": 1,
   "id": "53be2771-a285-429d-9f5c-5eb32da1fd06",
   "metadata": {},
   "outputs": [],
   "source": [
    "import numpy as np\n",
    "import pandas as pd\n",
    "import scipy\n",
    "import matplotlib.pyplot as plt"
   ]
  },
  {
   "cell_type": "code",
   "execution_count": 2,
   "id": "8add69e2-d167-4a40-a760-0a0021c8097a",
   "metadata": {},
   "outputs": [],
   "source": [
    "df = pd.read_csv(\"dating-full.csv\")[:6500]"
   ]
  },
  {
   "cell_type": "markdown",
   "id": "059d38d0-f217-4c91-a3aa-13371495831c",
   "metadata": {},
   "source": [
    "## 1. Preprocessing "
   ]
  },
  {
   "cell_type": "code",
   "execution_count": 3,
   "id": "365cd094-19d0-4ab6-99bd-2fec87b6d0c6",
   "metadata": {},
   "outputs": [],
   "source": [
    "# first preprocessing the first two parts\n",
    "func_dict = {\n",
    "    1: lambda x: x[0] == '\"' or x[0] == \"'\",\n",
    "    2: lambda x: any(y.isupper() for y in x),   \n",
    "}\n",
    "def race_f(x):\n",
    "    if func_dict[1](x):\n",
    "        return x[1:-1]\n",
    "    else:\n",
    "        return x\n",
    "modi_dict = {\n",
    "    1: race_f,\n",
    "    2: lambda x: x.lower(),   \n",
    "}\n",
    "str_dict = {\n",
    "    1: \"Quotes removed from {} cells.\",\n",
    "    2: \"Standardized {} cells to lower case.\",  \n",
    "}\n",
    "def cond(name, index):\n",
    "    return df[name].apply(func_dict[index])\n",
    "def modify(name, index):\n",
    "    df[name] = df[name].apply(modi_dict[index])\n",
    "\n",
    "def handle_pre(name, index):\n",
    "    ret = np.sum(cond(name, index))\n",
    "    modify(name, index)\n",
    "    return ret\n",
    "\n",
    "s_ = handle_pre(\"race\", 1)\n",
    "s_ += handle_pre(\"race_o\", 1)\n",
    "s_ += handle_pre(\"field\", 1)\n",
    "# print(str_dict[1].format(s_))\n",
    "s_ = handle_pre(\"field\", 2)\n",
    "# print(str_dict[2].format(s_))"
   ]
  },
  {
   "cell_type": "code",
   "execution_count": 4,
   "id": "f50f47d3-9bd3-47e5-a065-50c4950b1b18",
   "metadata": {},
   "outputs": [
    {
     "name": "stdout",
     "output_type": "stream",
     "text": [
      "Mapped vector for female in column gender: [1 0].\n",
      "Mapped vector for Black/African American in column race: [0 1 0 0 0].\n",
      "Mapped vector for Other in column race_o: [0 0 0 0 1].\n",
      "Mapped vector for economics in column field: [0 0 0 0 0 0 0 0 0 0 0 0 0 0 0 0 0 0 0 0 0 0 0 0 0 0 0 0 0 0 0 0 0 0 0 0 0\n",
      " 0 0 0 0 0 0 0 0 0 0 0 0 0 0 0 0 0 0 0 0 1 0 0 0 0 0 0 0 0 0 0 0 0 0 0 0 0\n",
      " 0 0 0 0 0 0 0 0 0 0 0 0 0 0 0 0 0 0 0 0 0 0 0 0 0 0 0 0 0 0 0 0 0 0 0 0 0\n",
      " 0 0 0 0 0 0 0 0 0 0 0 0 0 0 0 0 0 0 0 0 0 0 0 0 0 0 0 0 0 0 0 0 0 0 0 0 0\n",
      " 0 0 0 0 0 0 0 0 0 0 0 0 0 0 0 0 0 0 0 0 0 0 0 0 0 0 0 0 0 0 0 0 0 0 0 0 0\n",
      " 0 0 0 0 0 0 0 0 0 0 0 0 0 0 0 0 0 0 0].\n"
     ]
    }
   ],
   "source": [
    "# then label encoding\n",
    "str_lbenc = \"Mapped vector for {} in column {}: {}.\"\n",
    "value_set = {\n",
    "    \"female\": \"gender\",\n",
    "    \"Black/African American\": \"race\",\n",
    "    \"Other\": \"race_o\",\n",
    "    \"economics\": \"field\",\n",
    "}\n",
    "def handle_enc(name):\n",
    "    Set = sorted(set(df[name])) # Alphabetically sorted\n",
    "    Len = len(Set)\n",
    "    Dict = {}\n",
    "    for index, value in enumerate(Set):\n",
    "        Dict[value] = np.zeros(Len).astype(np.int32)\n",
    "        Dict[value][index] += 1\n",
    "        if value in value_set and value_set[value]==name:\n",
    "            print(str_lbenc.format(value, name, Dict[value]))\n",
    "    # df[name] = df[name].apply(lambda x:Dict[x])\n",
    "    if name == \"field\":\n",
    "        Len = 210\n",
    "    f = open(f\"tmp/{name}.txt\", \"w\")\n",
    "    f.write(f\"{Len}\")\n",
    "    return pd.get_dummies(df, columns=[name])\n",
    "    \n",
    "df = handle_enc(\"gender\")\n",
    "df = handle_enc(\"race\")\n",
    "df = handle_enc(\"race_o\")\n",
    "df = handle_enc(\"field\")"
   ]
  },
  {
   "cell_type": "code",
   "execution_count": 5,
   "id": "26332a3e-30be-4945-97d1-f0e6041e3228",
   "metadata": {},
   "outputs": [],
   "source": [
    "# finally normalization\n",
    "str_nor = \"Mean of {}: {:0.2f}.\"\n",
    "psop = [\n",
    "    \"attractive_important\", \n",
    "    \"sincere_important\", \n",
    "    \"intelligence_important\", \n",
    "    \"funny_important\", \n",
    "    \"ambition_important\", \n",
    "    \"shared_interests_important\"\n",
    "]\n",
    "psoo = [\n",
    "    \"pref_o_attractive\", \n",
    "    \"pref_o_sincere\", \n",
    "    \"pref_o_intelligence\", \n",
    "    \"pref_o_funny\", \n",
    "    \"pref_o_ambitious\", \n",
    "    \"pref_o_shared_interests\"\n",
    "]\n",
    "rofp = [\n",
    "    \"attractive_partner\", \n",
    "    \"sincere_partner\", \n",
    "    \"intelligence_parter\", \n",
    "    \"funny_partner\", \n",
    "    \"ambition_partner\", \n",
    "    \"shared_interests_partner\"\n",
    "]\n",
    "\n",
    "def handle_nor(LIST):\n",
    "    df[LIST] = df[LIST].apply(lambda x: x/np.sum(x), axis = 1)\n",
    "\n",
    "handle_nor(psop)\n",
    "handle_nor(psoo)\n",
    "# [print(str_nor.format(name, np.mean(df[name]))) for name in psop + psoo]\n",
    "None"
   ]
  },
  {
   "cell_type": "code",
   "execution_count": 6,
   "id": "27ac1839-0f6c-4d10-954f-83b776feea60",
   "metadata": {},
   "outputs": [],
   "source": [
    "# put the decision to the final column\n",
    "df = df[list(set(df.columns) - set(['decision'])) + ['decision']]"
   ]
  },
  {
   "cell_type": "markdown",
   "id": "8ed5439b-5d82-4b09-8068-4667194c183b",
   "metadata": {},
   "source": [
    "### Save to file"
   ]
  },
  {
   "cell_type": "code",
   "execution_count": 7,
   "id": "e55a5e74-3301-4e19-ae34-a7fd9ebba7e7",
   "metadata": {},
   "outputs": [],
   "source": [
    "def build_tr_te_utd():\n",
    "    test_set = df.sample(frac=0.2, random_state=25)\n",
    "    binned_data = pd.read_csv(\"dating-binned.csv\", index_col=[0])[:6500]\n",
    "    train_set = df.loc[list(set(df.index) - set(test_set.index))]\n",
    "    train_binned = binned_data.loc[list(set(df.index) - set(test_set.index))]\n",
    "    train_set.to_csv(\"trainingSet.csv\")\n",
    "    train_binned.to_csv(\"trainingBinned.csv\")\n",
    "    test_set.to_csv(\"testSet.csv\")\n",
    "build_tr_te_utd()"
   ]
  },
  {
   "cell_type": "markdown",
   "id": "997277e1-f41a-42cb-b920-ced5a303a2f0",
   "metadata": {},
   "source": [
    "## 2. LR and SVM"
   ]
  },
  {
   "cell_type": "code",
   "execution_count": 8,
   "id": "62f6c519-2cae-43a2-a574-1a6f0ce3bb30",
   "metadata": {},
   "outputs": [],
   "source": [
    "feature_space_size = df.shape[1] - 1\n",
    "def lr(trainingSet, testSet, if_p = True):\n",
    "    # define vars\n",
    "    Lambda, learning_rate, max_iter, threshold = 1e-2, 1e-2, 500, 1e-6\n",
    "    theta = np.zeros(feature_space_size + 1) # one more for the constant\n",
    "\n",
    "    # forward and backward functions\n",
    "    def forward(data):\n",
    "        return 1 / (\n",
    "                    1 + np.exp(\n",
    "                        -(\n",
    "                            data \n",
    "                             @ \n",
    "                            theta.reshape(-1, 1)\n",
    "                        ).reshape(-1)\n",
    "                    )\n",
    "                )\n",
    "    def Grad(data, labels, now_th):\n",
    "        return (\n",
    "                data.T \n",
    "                 @ \n",
    "                (\n",
    "                    forward(data) \n",
    "                     - \n",
    "                    labels\n",
    "                ).reshape(-1, 1)\n",
    "            ).reshape(-1) / labels.shape[0] + Lambda * now_th # Second is the regulation term \n",
    "                            \n",
    "\n",
    "    # X, y; split\n",
    "    trX, tr_y = trainingSet[:, :-1], trainingSet[:, -1]\n",
    "    teX, te_y = testSet[:, :-1], testSet[:, -1]\n",
    "        # add one more full 1 column\n",
    "    one_col_tr = np.ones(trX.shape[0]).reshape(-1, 1)\n",
    "    one_col_te = np.ones(teX.shape[0]).reshape(-1, 1)\n",
    "    trX = np.concatenate((trX, one_col_tr), axis=1)\n",
    "    teX = np.concatenate((teX, one_col_te), axis=1)\n",
    "    \n",
    "    # TRAIN \n",
    "    for epoch in range(max_iter):\n",
    "        delta = learning_rate * Grad(trX, tr_y, theta)\n",
    "        if np.dot(delta, delta) < threshold:\n",
    "            break\n",
    "        theta -= delta\n",
    "\n",
    "    # print(np.dot(theta, theta))\n",
    "\n",
    "    # TEST on TRAIN\n",
    "    predict = forward(trX) + 0.5\n",
    "    acc = np.sum(predict.astype(int) == tr_y.astype(int)) / predict.shape[0]\n",
    "    if if_p:\n",
    "        print(f\"Training Accuracy LR: {acc}\")\n",
    "\n",
    "    # TEST on TEST\n",
    "    predict = forward(teX) + 0.5\n",
    "    acc = np.sum(predict.astype(int) == te_y.astype(int)) / predict.shape[0]\n",
    "    if if_p:\n",
    "        print(f\"Testing Accuracy LR: {acc}\")\n",
    "\n",
    "    return acc"
   ]
  },
  {
   "cell_type": "code",
   "execution_count": 9,
   "id": "0e3c6a9d-f4bf-410b-82c0-b6bd08066c9e",
   "metadata": {},
   "outputs": [],
   "source": [
    "def svm(trainingSet, testSet, if_p = True):\n",
    "    # define vars\n",
    "    Lambda, learning_rate, max_iter, threshold = 1e-2, 0.5, 500, 1e-6\n",
    "    theta = np.zeros(feature_space_size + 1) # one more for the constant\n",
    "\n",
    "    # forward and backward functions\n",
    "    def forward(data):\n",
    "        return  np.sign(\n",
    "                    data \n",
    "                     @ \n",
    "                    theta.reshape(-1, 1)\n",
    "                ).reshape(-1)\n",
    "    def Grad(data, labels, now_th):\n",
    "        return (\n",
    "                -(\n",
    "                    labels \n",
    "                     * \n",
    "                    (\n",
    "                        data \n",
    "                         @ \n",
    "                        now_th.reshape(-1, 1)\n",
    "                    ).reshape(-1) \n",
    "                     < \n",
    "                    1.0\n",
    "                ).astype(np.float32).reshape(1, -1) \n",
    "                 @ \n",
    "                (\n",
    "                    data \n",
    "                     * \n",
    "                    labels.reshape(-1, 1)\n",
    "                )\n",
    "               ).reshape(-1) / labels.shape[0] + Lambda * now_th\n",
    "                            \n",
    "\n",
    "    # X, y; split\n",
    "    trX, tr_y = trainingSet[:, :-1], trainingSet[:, -1]\n",
    "    teX, te_y = testSet[:, :-1], testSet[:, -1]\n",
    "        # add one more full 1 column\n",
    "    one_col_tr = np.ones(trX.shape[0]).reshape(-1, 1)\n",
    "    one_col_te = np.ones(teX.shape[0]).reshape(-1, 1)\n",
    "    trX = np.concatenate((trX, one_col_tr), axis=1)\n",
    "    teX = np.concatenate((teX, one_col_te), axis=1)\n",
    "        # transform 0,1 -> -1,1\n",
    "    tr_y = tr_y * 2 - 1\n",
    "    te_y = te_y * 2 - 1\n",
    "    \n",
    "    # TRAIN \n",
    "    for epoch in range(max_iter):\n",
    "        delta = learning_rate * Grad(trX, tr_y, theta)\n",
    "        if np.dot(delta, delta) < threshold:\n",
    "            break\n",
    "        theta -= delta\n",
    "\n",
    "    # print(np.dot(theta, theta))\n",
    "\n",
    "    # TEST on TRAIN\n",
    "    predict = forward(trX)\n",
    "    acc = np.sum(predict.astype(int) == tr_y.astype(int)) / predict.shape[0]\n",
    "    if if_p:\n",
    "        print(f\"Training Accuracy LR: {acc}\")\n",
    "    \n",
    "    # TEST on TEST\n",
    "    predict = forward(teX)\n",
    "    acc = np.sum(predict.astype(int) == te_y.astype(int)) / predict.shape[0]\n",
    "    if if_p:\n",
    "        print(f\"Testing Accuracy LR: {acc}\")\n",
    "\n",
    "    return acc"
   ]
  },
  {
   "cell_type": "code",
   "execution_count": 10,
   "id": "6c3b1ce5-d957-4ec0-9964-2dc1dd7d5571",
   "metadata": {},
   "outputs": [],
   "source": [
    "def lrsvm(trainingDataFilename, testDataFilename, modelIdx):\n",
    "    Train = np.array(pd.read_csv(trainingDataFilename, index_col=[0]), dtype = np.float32)\n",
    "    Test = np.array(pd.read_csv(testDataFilename, index_col=[0]), dtype = np.float32)\n",
    "    if modelIdx == 1:\n",
    "        lr(Train, Test)\n",
    "    elif modelIdx == 2:\n",
    "        svm(Train, Test)\n",
    "    else:\n",
    "        print(\"Wrong modelIdx!\")"
   ]
  },
  {
   "cell_type": "code",
   "execution_count": 11,
   "id": "5cc7ba57-27d8-4959-a150-50fe83e96ac6",
   "metadata": {},
   "outputs": [
    {
     "name": "stdout",
     "output_type": "stream",
     "text": [
      "Training Accuracy LR: 0.6601923076923077\n",
      "Testing Accuracy LR: 0.6561538461538462\n"
     ]
    }
   ],
   "source": [
    "lrsvm(\"trainingSet.csv\", \"testSet.csv\", 1)"
   ]
  },
  {
   "cell_type": "code",
   "execution_count": 12,
   "id": "4b1186ba-e9c4-4bc4-a4be-4608d9691708",
   "metadata": {},
   "outputs": [
    {
     "name": "stdout",
     "output_type": "stream",
     "text": [
      "Training Accuracy LR: 0.5605769230769231\n",
      "Testing Accuracy LR: 0.5538461538461539\n"
     ]
    }
   ],
   "source": [
    "lrsvm(\"trainingSet.csv\", \"testSet.csv\", 2)"
   ]
  },
  {
   "cell_type": "markdown",
   "id": "a99af9bb-df44-4235-ad70-79260538a62d",
   "metadata": {},
   "source": [
    "## 3. Learning Curve & Performance"
   ]
  },
  {
   "cell_type": "code",
   "execution_count": 13,
   "id": "95daa4ba-cbef-4361-b695-9e521b857385",
   "metadata": {},
   "outputs": [],
   "source": [
    "class NBC: # reuse what in hw2\n",
    "    def __init__(self, col_names, bin_size):\n",
    "        self.c2d = { # learned conditional prob\n",
    "            col: []\n",
    "            for col in col_names\n",
    "        }\n",
    "        self.c2all_set = {\n",
    "            col: np.arange(bin_size)\n",
    "            for col in col_names\n",
    "        }\n",
    "        self.y = [] # learned prob\n",
    "\n",
    "        for name in (\"gender\", \"race\", \"race_o\", \"field\"):\n",
    "            self.c2all_set[name] = np.arange(int(open(f\"tmp/{name}.txt\", \"r\").read()))\n",
    "        self.c2all_set[\"samerace\"] = np.arange(2)\n",
    "        \n",
    "    def fit(self, data):\n",
    "        self.y = data[\"decision\"].value_counts(normalize=True).reindex([0, 1], fill_value=0) \n",
    "        # nearly impossible to have all 0 or 1, but still need to handle\n",
    "        for col in self.c2d:\n",
    "            self.c2d[col] = (\n",
    "                data[data[\"decision\"] == 0][col].value_counts(normalize=True).reindex(self.c2all_set[col], fill_value=0),\n",
    "                data[data[\"decision\"] == 1][col].value_counts(normalize=True).reindex(self.c2all_set[col], fill_value=0),\n",
    "            )\n",
    "            # print(self.c2d[col][0])\n",
    "            # print(self.c2d[col][1])\n",
    "        \n",
    "    def test(self, data, name, ban_print):\n",
    "        tag_y = np.array(data[\"decision\"])\n",
    "        predict_y = np.array(self.y).reshape(-1, 1)\n",
    "        for col in self.c2d:\n",
    "            # firstly broadcast, then element-wise multiply\n",
    "            predict_y = predict_y * np.array((\n",
    "                                      self.c2d[col][0][np.array(data[col])], \n",
    "                                      self.c2d[col][1][np.array(data[col])]\n",
    "                                    )) \n",
    "        predict_y = np.transpose(predict_y, (1, 0)).argmax(axis = 1)\n",
    "        acc = np.sum(tag_y == predict_y) / tag_y.shape[0]\n",
    "        if ban_print == 0:\n",
    "            print(f\"{name} Accuracy:  {acc}\")\n",
    "        return acc"
   ]
  },
  {
   "cell_type": "code",
   "execution_count": 14,
   "id": "0e7ddf66-9502-4d45-af91-4f2f8d22f693",
   "metadata": {},
   "outputs": [],
   "source": [
    "train_4_3 = pd.read_csv(\"trainingSet.csv\", index_col=[0])\n",
    "train_4_bin = pd.read_csv(\"trainingBinned.csv\", index_col=[0])\n",
    "train_4_3 = train_4_3.sample(frac=1, random_state=18) # reshuffle"
   ]
  },
  {
   "cell_type": "code",
   "execution_count": 15,
   "id": "72b45b0d-5fca-4c57-bb2e-47718443c84f",
   "metadata": {},
   "outputs": [
    {
     "name": "stdout",
     "output_type": "stream",
     "text": [
      "0.025 0.6084615384615384 0.6692307692307693 0.5546153846153846\n",
      "0.05 0.6299999999999999 0.6588461538461539 0.5546153846153846\n",
      "0.075 0.6588461538461539 0.6694230769230769 0.5603846153846154\n",
      "0.1 0.6736538461538462 0.6753846153846154 0.5638461538461538\n",
      "0.15 0.6976923076923076 0.6730769230769231 0.5676923076923076\n",
      "0.2 0.7165384615384615 0.6665384615384615 0.5682692307692307\n"
     ]
    }
   ],
   "source": [
    "acn, acl, acs, ern, erl, ers = [], [], [], [], [], []\n",
    "frac_ = [0.025, 0.05, 0.075, 0.1, 0.15, 0.2]\n",
    "for Frac in frac_:\n",
    "    nbc_ar, lr_ar, svm_ar = [], [], []\n",
    "    for IDX in range(10):\n",
    "        test_idx, train_idx = train_4_3.index[520*IDX:520*IDX+520], list(train_4_3.index[:520*IDX]) + list(train_4_3.index[520*IDX+520:])\n",
    "        test_ub, test_b = train_4_3.loc[test_idx], train_4_bin.loc[test_idx]\n",
    "        train_ub, train_b = train_4_3.loc[train_idx], train_4_bin.loc[train_idx]\n",
    "        train_ub = train_ub.sample(frac = Frac, random_state = 32)\n",
    "        train_b = train_b.loc[train_ub.index]\n",
    "        NBCModel = NBC(set(train_4_bin.columns) - set([\"decision\"]), 5)\n",
    "        # FIT\n",
    "        NBCModel.fit(train_b)\n",
    "        acc_nbc = NBCModel.test(test_b, \"Testing\", ban_print = 1)\n",
    "        acc_lr = lr(np.array(train_ub, dtype=np.float32), np.array(test_ub, dtype=np.float32), False)\n",
    "        acc_svm = svm(np.array(train_ub, dtype=np.float32), np.array(test_ub, dtype=np.float32), False)\n",
    "        # Append\n",
    "        nbc_ar.append(acc_nbc)\n",
    "        lr_ar.append(acc_lr)\n",
    "        svm_ar.append(acc_svm)\n",
    "    # Compute the sterr\n",
    "    sterr_nbc = np.std(nbc_ar) / np.sqrt(10)\n",
    "    sterr_lr = np.std(lr_ar) / np.sqrt(10)\n",
    "    sterr_svm = np.std(svm_ar) / np.sqrt(10)\n",
    "    # Compute the average acc\n",
    "    avacc_nbc = np.mean(nbc_ar)\n",
    "    avacc_lr = np.mean(lr_ar)\n",
    "    avacc_svm = np.mean(svm_ar)\n",
    "\n",
    "    # Print\n",
    "    print(Frac, avacc_nbc, avacc_lr, avacc_svm)\n",
    "\n",
    "    # add to present lists\n",
    "    acn.append(avacc_nbc)\n",
    "    acl.append(avacc_lr)\n",
    "    acs.append(avacc_svm)\n",
    "    ern.append(sterr_nbc)\n",
    "    erl.append(sterr_lr)\n",
    "    ers.append(sterr_svm)"
   ]
  },
  {
   "cell_type": "code",
   "execution_count": 16,
   "id": "8a591c76-4e67-4564-a6b5-79a011338a63",
   "metadata": {},
   "outputs": [
    {
     "data": {
      "image/png": "[encoded data removed]",
      "text/plain": [
       "<Figure size 1000x600 with 1 Axes>"
      ]
     },
     "metadata": {},
     "output_type": "display_data"
    }
   ],
   "source": [
    "plt.figure(figsize=(10, 6))\n",
    "frac_ = (np.array(frac_) * 520 * 9)\n",
    "plt.errorbar(frac_, acn, yerr=ern, label=\"NBC\", marker='o', capsize=5, linestyle='-', color = 'r')\n",
    "plt.errorbar(frac_, acl, yerr=erl, label=\"LR\", marker='o', capsize=5, linestyle='-', color = 'b')\n",
    "plt.errorbar(frac_, acs, yerr=ers, label=\"SVM\", marker='o', capsize=5, linestyle='-', color = 'g')\n",
    "\n",
    "plt.xlabel(\"Size of Training Data\")\n",
    "plt.ylabel(\"Accuracy\")\n",
    "plt.title(\"Learning Curves for Three Models\")\n",
    "plt.legend()\n",
    "plt.grid(True, which='both', linestyle='--', linewidth=0.5)\n",
    "\n",
    "plt.show()"
   ]
  },
  {
   "cell_type": "markdown",
   "id": "c4fec2d2-9ac7-41da-a737-dbfaac526b2a",
   "metadata": {},
   "source": [
    "## Hypothesis\n",
    "- this problem may not be linearly separable, but not so complicated.\n",
    "\n",
    "## Test and Proof\n",
    "- Comparing performance between NBC and SVM.\n",
    "- We can find the acc of SVM never exceed 57.5%, while it of NBC continue to increase obviously with our putting more data to train. This is enough to show my hypothesis since NBC is not a strong model."
   ]
  },
  {
   "cell_type": "code",
   "execution_count": null,
   "id": "4538f441-6c3a-4107-a138-8266fd7e4b57",
   "metadata": {},
   "outputs": [],
   "source": []
  }
 ],
 "metadata": {
  "kernelspec": {
   "display_name": "Python 3 (ipykernel)",
   "language": "python",
   "name": "python3"
  },
  "language_info": {
   "codemirror_mode": {
    "name": "ipython",
    "version": 3
   },
   "file_extension": ".py",
   "mimetype": "text/x-python",
   "name": "python",
   "nbconvert_exporter": "python",
   "pygments_lexer": "ipython3",
   "version": "3.9.18"
  }
 },
 "nbformat": 4,
 "nbformat_minor": 5
}
